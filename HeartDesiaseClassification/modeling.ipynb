{
 "cells": [
  {
   "cell_type": "markdown",
   "metadata": {},
   "source": [
    "## Import libraries"
   ]
  },
  {
   "cell_type": "code",
   "execution_count": 22,
   "metadata": {},
   "outputs": [],
   "source": [
    "import pandas as pd\n",
    "import numpy as np\n",
    "from sklearn.preprocessing import LabelEncoder, OneHotEncoder\n",
    "from sklearn.model_selection import train_test_split\n",
    "from sklearn.linear_model import LogisticRegression\n",
    "from sklearn.metrics import accuracy_score\n",
    "from sklearn.metrics import f1_score\n",
    "\n",
    "import joblib"
   ]
  },
  {
   "cell_type": "markdown",
   "metadata": {},
   "source": [
    "## Prepocessing data"
   ]
  },
  {
   "cell_type": "code",
   "execution_count": 23,
   "metadata": {},
   "outputs": [],
   "source": [
    "df = pd.read_csv(\"data/heart_cleaned.csv\")"
   ]
  },
  {
   "cell_type": "code",
   "execution_count": 24,
   "metadata": {},
   "outputs": [],
   "source": [
    "#Removing The 'or older' in the dataset\n",
    "df['AgeCategory'] = df['AgeCategory'].replace('80 or older', '80-80')"
   ]
  },
  {
   "cell_type": "code",
   "execution_count": 25,
   "metadata": {},
   "outputs": [],
   "source": [
    "df[\"Diabetic\"] = df[\"Diabetic\"].replace('No, borderline diabetes', 'No')\n",
    "df[\"Diabetic\"] = df[\"Diabetic\"].replace('Yes (during pregnancy)', 'Yes')"
   ]
  },
  {
   "cell_type": "code",
   "execution_count": 26,
   "metadata": {},
   "outputs": [],
   "source": [
    "X = df.drop('HeartDisease', axis=1)\n",
    "y = df['HeartDisease']"
   ]
  },
  {
   "cell_type": "code",
   "execution_count": 27,
   "metadata": {},
   "outputs": [],
   "source": [
    "LabelEnc = LabelEncoder()\n",
    "OHEnc = OneHotEncoder(sparse=False)"
   ]
  },
  {
   "cell_type": "code",
   "execution_count": 28,
   "metadata": {},
   "outputs": [],
   "source": [
    "y_label = LabelEnc.fit_transform(y)"
   ]
  },
  {
   "cell_type": "code",
   "execution_count": 29,
   "metadata": {},
   "outputs": [
    {
     "data": {
      "text/plain": [
       "array([0, 0, 0, ..., 0, 0, 0])"
      ]
     },
     "execution_count": 29,
     "metadata": {},
     "output_type": "execute_result"
    }
   ],
   "source": [
    "y_label"
   ]
  },
  {
   "cell_type": "markdown",
   "metadata": {},
   "source": [
    "data, on which we train our models\n",
    "1. Smoking : Have you smoked at least 100 cigarettes in your entire life? (Yes or No ).\n",
    "2. AlcoholDrinking : Heavy drinkers (adult men having more than 14 drinks per week and adult women having more than 7 drinks per week (Yes or No)\n",
    "3. Stroke : (Ever told) (you had) a stroke? (Yes or No)\n",
    "4. PhysicalHealth : Now thinking about your physical health, which includes physical illness and injury, for how many days during the past 30 days was your physical health not good? (0-30 days, float).\n",
    "5. MentalHealth : Thinking about your mental health, for how many days during the past 30 days was your mental health not good? (0-30 days, float).\n",
    "6. DiffWalking : Do you have serious difficulty walking or climbing stairs? (Yes or No)\n",
    "7. Sex (Male or Female)\n",
    "8. Diabetic : (Ever told) (you had) diabetes? (Yes or No)\n",
    "9. PhysicalActivity : Adults who reported doing physical activity or exercise during the past 30 days other than your regular job. (Yes or No)\n",
    "10. SleepTime : On average, how many hours of sleep do you get in a 24-hour period?\n",
    "11. Asthma : (Ever told) (you had) asthma? (Yes or No)\n",
    "12. KidneyDisease : Not including kidney stones, bladder infection or incontinence, were you ever told you had kidney disease? (Yes or No)\n",
    "13. SkinCancer : (Ever told) (you had) skin cancer? (Yes or No)"
   ]
  },
  {
   "cell_type": "code",
   "execution_count": 30,
   "metadata": {},
   "outputs": [],
   "source": [
    "train_cols = ['Smoking', 'AlcoholDrinking', 'Stroke',\n",
    "              'PhysicalHealth', 'MentalHealth',\n",
    "                    'DiffWalking', 'Sex', 'Diabetic', 'PhysicalActivity', 'SleepTime',\n",
    "                    'Asthma', 'KidneyDisease', 'SkinCancer']"
   ]
  },
  {
   "cell_type": "code",
   "execution_count": 31,
   "metadata": {},
   "outputs": [],
   "source": [
    "X = X[train_cols]"
   ]
  },
  {
   "cell_type": "code",
   "execution_count": 38,
   "metadata": {},
   "outputs": [],
   "source": [
    "categorical_cols = ['Smoking', 'AlcoholDrinking', 'Stroke',\n",
    "                    'DiffWalking', 'Sex', 'Diabetic', 'PhysicalActivity',\n",
    "                    'Asthma', 'KidneyDisease', 'SkinCancer']\n",
    "\n",
    "label_encoders = {}\n",
    "for col in categorical_cols:\n",
    "    label_encoders[col] = LabelEncoder()\n",
    "    X[col] = label_encoders[col].fit_transform(X[col])"
   ]
  },
  {
   "cell_type": "code",
   "execution_count": 39,
   "metadata": {},
   "outputs": [
    {
     "data": {
      "text/plain": [
       "['encoders/label_encoders.joblib']"
      ]
     },
     "execution_count": 39,
     "metadata": {},
     "output_type": "execute_result"
    }
   ],
   "source": [
    "joblib.dump(label_encoders, 'encoders/label_encoders.joblib')"
   ]
  },
  {
   "cell_type": "code",
   "execution_count": 40,
   "metadata": {},
   "outputs": [
    {
     "data": {
      "text/html": [
       "<div>\n",
       "<style scoped>\n",
       "    .dataframe tbody tr th:only-of-type {\n",
       "        vertical-align: middle;\n",
       "    }\n",
       "\n",
       "    .dataframe tbody tr th {\n",
       "        vertical-align: top;\n",
       "    }\n",
       "\n",
       "    .dataframe thead th {\n",
       "        text-align: right;\n",
       "    }\n",
       "</style>\n",
       "<table border=\"1\" class=\"dataframe\">\n",
       "  <thead>\n",
       "    <tr style=\"text-align: right;\">\n",
       "      <th></th>\n",
       "      <th>Smoking</th>\n",
       "      <th>AlcoholDrinking</th>\n",
       "      <th>Stroke</th>\n",
       "      <th>PhysicalHealth</th>\n",
       "      <th>MentalHealth</th>\n",
       "      <th>DiffWalking</th>\n",
       "      <th>Sex</th>\n",
       "      <th>Diabetic</th>\n",
       "      <th>PhysicalActivity</th>\n",
       "      <th>SleepTime</th>\n",
       "      <th>Asthma</th>\n",
       "      <th>KidneyDisease</th>\n",
       "      <th>SkinCancer</th>\n",
       "    </tr>\n",
       "  </thead>\n",
       "  <tbody>\n",
       "    <tr>\n",
       "      <th>0</th>\n",
       "      <td>1</td>\n",
       "      <td>0</td>\n",
       "      <td>0</td>\n",
       "      <td>3.0</td>\n",
       "      <td>30.0</td>\n",
       "      <td>0</td>\n",
       "      <td>0</td>\n",
       "      <td>1</td>\n",
       "      <td>1</td>\n",
       "      <td>5.0</td>\n",
       "      <td>1</td>\n",
       "      <td>0</td>\n",
       "      <td>1</td>\n",
       "    </tr>\n",
       "    <tr>\n",
       "      <th>1</th>\n",
       "      <td>0</td>\n",
       "      <td>0</td>\n",
       "      <td>1</td>\n",
       "      <td>0.0</td>\n",
       "      <td>0.0</td>\n",
       "      <td>0</td>\n",
       "      <td>0</td>\n",
       "      <td>0</td>\n",
       "      <td>1</td>\n",
       "      <td>7.0</td>\n",
       "      <td>0</td>\n",
       "      <td>0</td>\n",
       "      <td>0</td>\n",
       "    </tr>\n",
       "    <tr>\n",
       "      <th>2</th>\n",
       "      <td>1</td>\n",
       "      <td>0</td>\n",
       "      <td>0</td>\n",
       "      <td>20.0</td>\n",
       "      <td>30.0</td>\n",
       "      <td>0</td>\n",
       "      <td>1</td>\n",
       "      <td>1</td>\n",
       "      <td>1</td>\n",
       "      <td>8.0</td>\n",
       "      <td>1</td>\n",
       "      <td>0</td>\n",
       "      <td>0</td>\n",
       "    </tr>\n",
       "    <tr>\n",
       "      <th>3</th>\n",
       "      <td>0</td>\n",
       "      <td>0</td>\n",
       "      <td>0</td>\n",
       "      <td>0.0</td>\n",
       "      <td>0.0</td>\n",
       "      <td>0</td>\n",
       "      <td>0</td>\n",
       "      <td>0</td>\n",
       "      <td>0</td>\n",
       "      <td>6.0</td>\n",
       "      <td>0</td>\n",
       "      <td>0</td>\n",
       "      <td>1</td>\n",
       "    </tr>\n",
       "    <tr>\n",
       "      <th>4</th>\n",
       "      <td>0</td>\n",
       "      <td>0</td>\n",
       "      <td>0</td>\n",
       "      <td>28.0</td>\n",
       "      <td>0.0</td>\n",
       "      <td>1</td>\n",
       "      <td>0</td>\n",
       "      <td>0</td>\n",
       "      <td>1</td>\n",
       "      <td>8.0</td>\n",
       "      <td>0</td>\n",
       "      <td>0</td>\n",
       "      <td>0</td>\n",
       "    </tr>\n",
       "    <tr>\n",
       "      <th>...</th>\n",
       "      <td>...</td>\n",
       "      <td>...</td>\n",
       "      <td>...</td>\n",
       "      <td>...</td>\n",
       "      <td>...</td>\n",
       "      <td>...</td>\n",
       "      <td>...</td>\n",
       "      <td>...</td>\n",
       "      <td>...</td>\n",
       "      <td>...</td>\n",
       "      <td>...</td>\n",
       "      <td>...</td>\n",
       "      <td>...</td>\n",
       "    </tr>\n",
       "    <tr>\n",
       "      <th>319790</th>\n",
       "      <td>1</td>\n",
       "      <td>0</td>\n",
       "      <td>0</td>\n",
       "      <td>7.0</td>\n",
       "      <td>0.0</td>\n",
       "      <td>1</td>\n",
       "      <td>1</td>\n",
       "      <td>1</td>\n",
       "      <td>0</td>\n",
       "      <td>6.0</td>\n",
       "      <td>1</td>\n",
       "      <td>0</td>\n",
       "      <td>0</td>\n",
       "    </tr>\n",
       "    <tr>\n",
       "      <th>319791</th>\n",
       "      <td>1</td>\n",
       "      <td>0</td>\n",
       "      <td>0</td>\n",
       "      <td>0.0</td>\n",
       "      <td>0.0</td>\n",
       "      <td>0</td>\n",
       "      <td>1</td>\n",
       "      <td>0</td>\n",
       "      <td>1</td>\n",
       "      <td>5.0</td>\n",
       "      <td>1</td>\n",
       "      <td>0</td>\n",
       "      <td>0</td>\n",
       "    </tr>\n",
       "    <tr>\n",
       "      <th>319792</th>\n",
       "      <td>0</td>\n",
       "      <td>0</td>\n",
       "      <td>0</td>\n",
       "      <td>0.0</td>\n",
       "      <td>0.0</td>\n",
       "      <td>0</td>\n",
       "      <td>0</td>\n",
       "      <td>0</td>\n",
       "      <td>1</td>\n",
       "      <td>6.0</td>\n",
       "      <td>0</td>\n",
       "      <td>0</td>\n",
       "      <td>0</td>\n",
       "    </tr>\n",
       "    <tr>\n",
       "      <th>319793</th>\n",
       "      <td>0</td>\n",
       "      <td>0</td>\n",
       "      <td>0</td>\n",
       "      <td>0.0</td>\n",
       "      <td>0.0</td>\n",
       "      <td>0</td>\n",
       "      <td>0</td>\n",
       "      <td>0</td>\n",
       "      <td>0</td>\n",
       "      <td>12.0</td>\n",
       "      <td>0</td>\n",
       "      <td>0</td>\n",
       "      <td>0</td>\n",
       "    </tr>\n",
       "    <tr>\n",
       "      <th>319794</th>\n",
       "      <td>0</td>\n",
       "      <td>0</td>\n",
       "      <td>0</td>\n",
       "      <td>0.0</td>\n",
       "      <td>0.0</td>\n",
       "      <td>0</td>\n",
       "      <td>0</td>\n",
       "      <td>0</td>\n",
       "      <td>1</td>\n",
       "      <td>8.0</td>\n",
       "      <td>0</td>\n",
       "      <td>0</td>\n",
       "      <td>0</td>\n",
       "    </tr>\n",
       "  </tbody>\n",
       "</table>\n",
       "<p>319795 rows × 13 columns</p>\n",
       "</div>"
      ],
      "text/plain": [
       "        Smoking  AlcoholDrinking  Stroke  PhysicalHealth  MentalHealth  \\\n",
       "0             1                0       0             3.0          30.0   \n",
       "1             0                0       1             0.0           0.0   \n",
       "2             1                0       0            20.0          30.0   \n",
       "3             0                0       0             0.0           0.0   \n",
       "4             0                0       0            28.0           0.0   \n",
       "...         ...              ...     ...             ...           ...   \n",
       "319790        1                0       0             7.0           0.0   \n",
       "319791        1                0       0             0.0           0.0   \n",
       "319792        0                0       0             0.0           0.0   \n",
       "319793        0                0       0             0.0           0.0   \n",
       "319794        0                0       0             0.0           0.0   \n",
       "\n",
       "        DiffWalking  Sex  Diabetic  PhysicalActivity  SleepTime  Asthma  \\\n",
       "0                 0    0         1                 1        5.0       1   \n",
       "1                 0    0         0                 1        7.0       0   \n",
       "2                 0    1         1                 1        8.0       1   \n",
       "3                 0    0         0                 0        6.0       0   \n",
       "4                 1    0         0                 1        8.0       0   \n",
       "...             ...  ...       ...               ...        ...     ...   \n",
       "319790            1    1         1                 0        6.0       1   \n",
       "319791            0    1         0                 1        5.0       1   \n",
       "319792            0    0         0                 1        6.0       0   \n",
       "319793            0    0         0                 0       12.0       0   \n",
       "319794            0    0         0                 1        8.0       0   \n",
       "\n",
       "        KidneyDisease  SkinCancer  \n",
       "0                   0           1  \n",
       "1                   0           0  \n",
       "2                   0           0  \n",
       "3                   0           1  \n",
       "4                   0           0  \n",
       "...               ...         ...  \n",
       "319790              0           0  \n",
       "319791              0           0  \n",
       "319792              0           0  \n",
       "319793              0           0  \n",
       "319794              0           0  \n",
       "\n",
       "[319795 rows x 13 columns]"
      ]
     },
     "execution_count": 40,
     "metadata": {},
     "output_type": "execute_result"
    }
   ],
   "source": [
    "X"
   ]
  },
  {
   "cell_type": "code",
   "execution_count": 41,
   "metadata": {},
   "outputs": [],
   "source": [
    "X_train, X_test, y_train, y_test = train_test_split(X, y_label, test_size=0.2, random_state=42)"
   ]
  },
  {
   "cell_type": "code",
   "execution_count": 47,
   "metadata": {},
   "outputs": [],
   "source": [
    "from sklearn.neighbors import KNeighborsClassifier\n",
    "from sklearn.svm import SVC\n",
    "from sklearn.ensemble import RandomForestClassifier"
   ]
  },
  {
   "cell_type": "code",
   "execution_count": 43,
   "metadata": {},
   "outputs": [],
   "source": [
    "#тренировка модели и получение результатов проверки\n",
    "def get_preds(model, X_train, X_test, y_train):\n",
    "  model.fit(X_train, y_train)\n",
    "  return model.predict(X_test)\n",
    "\n",
    "#оценивание точности модели с помощью нормализованной\n",
    "#и ненормализованной метрики accuracy\n",
    "def get_accuracy(preds, y_valid):\n",
    "  print(\"ratio: \", accuracy_score(preds, y_valid))\n",
    "  print(\"f1\", f1_score(preds, y_valid))\n",
    "  print(\"number of correct predictions\", accuracy_score(preds, y_valid, normalize = False))"
   ]
  },
  {
   "cell_type": "code",
   "execution_count": 49,
   "metadata": {},
   "outputs": [],
   "source": [
    "#определение моделей\n",
    "KNclass = KNeighborsClassifier(n_neighbors = 5)\n",
    "RFclass = RandomForestClassifier(n_estimators = 500, random_state = 0)\n",
    "classifiers = [KNclass, RFclass]"
   ]
  },
  {
   "cell_type": "code",
   "execution_count": 51,
   "metadata": {},
   "outputs": [
    {
     "name": "stdout",
     "output_type": "stream",
     "text": [
      "KNeighborsClassifier()\n",
      "ratio:  0.906549508278741\n",
      "f1 0.11595917763644431\n",
      "number of correct predictions 57982\n",
      "------------------------------ \n",
      "\n",
      "RandomForestClassifier(n_estimators=500, random_state=0)\n",
      "ratio:  0.9048452915148767\n",
      "f1 0.15706371191135732\n",
      "number of correct predictions 57873\n",
      "------------------------------ \n",
      "\n"
     ]
    }
   ],
   "source": [
    "#оцениваем точность каждой модели\n",
    "for classifier in classifiers:\n",
    "  print(classifier)\n",
    "  prediction = get_preds(classifier, X_train, X_test, y_train)\n",
    "  get_accuracy(prediction, y_test)\n",
    "  joblib.dump(classifier, \"models/\"+str(classifier)+\".joblib\")\n",
    "  print(\"-\"*30, '\\n')"
   ]
  },
  {
   "cell_type": "code",
   "execution_count": null,
   "metadata": {},
   "outputs": [],
   "source": []
  }
 ],
 "metadata": {
  "kernelspec": {
   "display_name": "Python 3",
   "language": "python",
   "name": "python3"
  },
  "language_info": {
   "codemirror_mode": {
    "name": "ipython",
    "version": 3
   },
   "file_extension": ".py",
   "mimetype": "text/x-python",
   "name": "python",
   "nbconvert_exporter": "python",
   "pygments_lexer": "ipython3",
   "version": "3.11.8"
  }
 },
 "nbformat": 4,
 "nbformat_minor": 2
}
